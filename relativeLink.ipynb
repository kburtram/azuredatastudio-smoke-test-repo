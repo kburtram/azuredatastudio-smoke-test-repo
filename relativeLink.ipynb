{
    "metadata": {
        "kernelspec": {
            "name": "python3",
            "display_name": "Python 3",
            "language": "python"
        },
        "language_info": {
            "name": "python",
            "version": "3.6.6",
            "mimetype": "text/x-python",
            "codemirror_mode": {
                "name": "ipython",
                "version": 3
            },
            "pygments_lexer": "ipython3",
            "nbconvert_exporter": "python",
            "file_extension": ".py"
        },
        "orig_nbformat": 2
    },
    "nbformat_minor": 2,
    "nbformat": 4,
    "cells": [
        {
            "cell_type": "markdown",
            "source": [
                "[TEST Link](hello.ipynb)"
            ],
            "metadata": {
                "azdata_cell_guid": "14d74cdf-8f5c-47bf-859c-4e5b59be4fbb"
            }
        }
    ]
}